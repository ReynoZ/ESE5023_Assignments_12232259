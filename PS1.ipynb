{
 "cells": [
  {
   "cell_type": "markdown",
   "id": "8abb83b7",
   "metadata": {},
   "source": [
    "# PS1"
   ]
  },
  {
   "cell_type": "markdown",
   "id": "9b60ff9d",
   "metadata": {},
   "source": [
    "## 1. Flowchart"
   ]
  },
  {
   "cell_type": "code",
   "execution_count": 3,
   "id": "dcedc4ad",
   "metadata": {},
   "outputs": [],
   "source": [
    "def Print_values(a, b, c):\n",
    "    if a > b:\n",
    "        if b > c:\n",
    "            lst = [a, b, c]\n",
    "        else:\n",
    "            if a > c:\n",
    "                lst = [a, c, b]\n",
    "            else:\n",
    "                lst = [c, a, b]\n",
    "    else:\n",
    "        if b > c:\n",
    "            if a > c:\n",
    "                lst = [a, c, b]\n",
    "            else:\n",
    "                lst = [c, a, b]\n",
    "        else:\n",
    "            lst = [c, b, a]\n",
    "    output = lst[0]+lst[1]-10*lst[2]\n",
    "    print(output)"
   ]
  },
  {
   "cell_type": "code",
   "execution_count": 7,
   "id": "30a10b73",
   "metadata": {},
   "outputs": [
    {
     "name": "stdout",
     "output_type": "stream",
     "text": [
      "96 82 78\n",
      "-602\n"
     ]
    }
   ],
   "source": [
    "import random\n",
    "\n",
    "a = round(random.random()*100)\n",
    "b = round(random.random()*100)\n",
    "c = round(random.random()*100)\n",
    "print(a,b,c)\n",
    "\n",
    "Print_values(a, b, c)"
   ]
  },
  {
   "cell_type": "code",
   "execution_count": 8,
   "id": "71f02872",
   "metadata": {},
   "outputs": [
    {
     "name": "stdout",
     "output_type": "stream",
     "text": [
      "5\n"
     ]
    }
   ],
   "source": [
    "a = 10\n",
    "b = 5\n",
    "c = 1\n",
    "\n",
    "Print_values(a, b, c)"
   ]
  },
  {
   "cell_type": "markdown",
   "id": "085f41e9",
   "metadata": {},
   "source": [
    "## 2. Continuous ceiling function"
   ]
  },
  {
   "cell_type": "code",
   "execution_count": 37,
   "id": "46e75fa0",
   "metadata": {},
   "outputs": [
    {
     "data": {
      "text/plain": [
       "[93, 45, 90, 23, 75]"
      ]
     },
     "execution_count": 37,
     "metadata": {},
     "output_type": "execute_result"
    }
   ],
   "source": [
    "import math\n",
    "import random\n",
    "\n",
    "# Generate a list with N random positive integers\n",
    "N = 5\n",
    "inputs = [round(random.random()*100) for x in range(N)]\n",
    "inputs"
   ]
  },
  {
   "cell_type": "code",
   "execution_count": 38,
   "id": "2974540c",
   "metadata": {},
   "outputs": [],
   "source": [
    "# Define a function to find the ceiling of x/3\n",
    "def find_ceil(x):\n",
    "    ceil = math.ceil(x/3)\n",
    "    return ceil"
   ]
  },
  {
   "cell_type": "code",
   "execution_count": 39,
   "id": "50d52a32",
   "metadata": {},
   "outputs": [],
   "source": [
    "# The main F(x) function using a while loop\n",
    "# continually calling the find_ceil function to reduce x to integer 1 \n",
    "def F(x):\n",
    "    \n",
    "    F_1 = 1\n",
    "    add_all=0\n",
    "\n",
    "    while x/3 > 1/3:\n",
    "        double_x.append(2*x)\n",
    "        add_all = add_all+2*x\n",
    "        x = find_ceil(x)\n",
    "        find_ceil(x)\n",
    "        \n",
    "    output = F_1+add_all\n",
    "    return output"
   ]
  },
  {
   "cell_type": "code",
   "execution_count": 40,
   "id": "19d7761f",
   "metadata": {},
   "outputs": [
    {
     "name": "stdout",
     "output_type": "stream",
     "text": [
      "[283, 135, 273, 69, 225]\n"
     ]
    }
   ],
   "source": [
    "# Find and print all the outputs in a list\n",
    "outputs = []\n",
    "\n",
    "for x in inputs:\n",
    "    outputs.append(F(x))\n",
    "    \n",
    "print(outputs)"
   ]
  },
  {
   "cell_type": "markdown",
   "id": "bbcfa6b6",
   "metadata": {},
   "source": [
    "## 3. Dice rolling"
   ]
  },
  {
   "cell_type": "markdown",
   "id": "795761c3",
   "metadata": {},
   "source": [
    "### 3.1"
   ]
  },
  {
   "cell_type": "code",
   "execution_count": null,
   "id": "2e9cf547",
   "metadata": {},
   "outputs": [],
   "source": []
  },
  {
   "cell_type": "markdown",
   "id": "54038000",
   "metadata": {},
   "source": [
    "### 3.2"
   ]
  },
  {
   "cell_type": "code",
   "execution_count": null,
   "id": "05e8b837",
   "metadata": {},
   "outputs": [],
   "source": []
  },
  {
   "cell_type": "markdown",
   "id": "f888a533",
   "metadata": {},
   "source": [
    "## 4. Dynamic programming"
   ]
  },
  {
   "cell_type": "markdown",
   "id": "0a4a1f59",
   "metadata": {},
   "source": [
    "### 4.1"
   ]
  },
  {
   "cell_type": "code",
   "execution_count": null,
   "id": "873df893",
   "metadata": {},
   "outputs": [],
   "source": []
  },
  {
   "cell_type": "markdown",
   "id": "40024b5b",
   "metadata": {},
   "source": [
    "### 4.2"
   ]
  },
  {
   "cell_type": "code",
   "execution_count": null,
   "id": "90dc2bce",
   "metadata": {},
   "outputs": [],
   "source": []
  },
  {
   "cell_type": "markdown",
   "id": "b9a69221",
   "metadata": {},
   "source": [
    "### 4.3"
   ]
  },
  {
   "cell_type": "code",
   "execution_count": null,
   "id": "b255ca8a",
   "metadata": {},
   "outputs": [],
   "source": []
  },
  {
   "cell_type": "markdown",
   "id": "f9bb55bc",
   "metadata": {},
   "source": [
    "## 5. Path counting"
   ]
  },
  {
   "cell_type": "markdown",
   "id": "3caf7939",
   "metadata": {},
   "source": [
    "### 5.1"
   ]
  },
  {
   "cell_type": "code",
   "execution_count": null,
   "id": "9298e454",
   "metadata": {},
   "outputs": [],
   "source": []
  },
  {
   "cell_type": "markdown",
   "id": "75787f41",
   "metadata": {},
   "source": [
    "### 5.2"
   ]
  },
  {
   "cell_type": "code",
   "execution_count": null,
   "id": "2997d4e0",
   "metadata": {},
   "outputs": [],
   "source": []
  },
  {
   "cell_type": "markdown",
   "id": "40e5d97b",
   "metadata": {},
   "source": [
    "### 5.3"
   ]
  },
  {
   "cell_type": "code",
   "execution_count": null,
   "id": "2df22a32",
   "metadata": {},
   "outputs": [],
   "source": []
  }
 ],
 "metadata": {
  "kernelspec": {
   "display_name": "Python 3 (ipykernel)",
   "language": "python",
   "name": "python3"
  },
  "language_info": {
   "codemirror_mode": {
    "name": "ipython",
    "version": 3
   },
   "file_extension": ".py",
   "mimetype": "text/x-python",
   "name": "python",
   "nbconvert_exporter": "python",
   "pygments_lexer": "ipython3",
   "version": "3.9.12"
  }
 },
 "nbformat": 4,
 "nbformat_minor": 5
}
