{
 "cells": [
  {
   "cell_type": "markdown",
   "id": "8abb83b7",
   "metadata": {},
   "source": [
    "# PS1"
   ]
  },
  {
   "cell_type": "markdown",
   "id": "9b60ff9d",
   "metadata": {},
   "source": [
    "## 1. Flowchart"
   ]
  },
  {
   "cell_type": "code",
   "execution_count": 3,
   "id": "dcedc4ad",
   "metadata": {},
   "outputs": [],
   "source": [
    "def Print_values(a, b, c):\n",
    "    if a > b:\n",
    "        if b > c:\n",
    "            lst = [a, b, c]\n",
    "        else:\n",
    "            if a > c:\n",
    "                lst = [a, c, b]\n",
    "            else:\n",
    "                lst = [c, a, b]\n",
    "    else:\n",
    "        if b > c:\n",
    "            if a > c:\n",
    "                lst = [a, c, b]\n",
    "            else:\n",
    "                lst = [c, a, b]\n",
    "        else:\n",
    "            lst = [c, b, a]\n",
    "    output = lst[0]+lst[1]-10*lst[2]\n",
    "    print(output)"
   ]
  },
  {
   "cell_type": "code",
   "execution_count": 7,
   "id": "30a10b73",
   "metadata": {},
   "outputs": [
    {
     "name": "stdout",
     "output_type": "stream",
     "text": [
      "96 82 78\n",
      "-602\n"
     ]
    }
   ],
   "source": [
    "import random\n",
    "\n",
    "a = round(random.random()*100)\n",
    "b = round(random.random()*100)\n",
    "c = round(random.random()*100)\n",
    "print(a,b,c)\n",
    "\n",
    "Print_values(a, b, c)"
   ]
  },
  {
   "cell_type": "code",
   "execution_count": 8,
   "id": "71f02872",
   "metadata": {},
   "outputs": [
    {
     "name": "stdout",
     "output_type": "stream",
     "text": [
      "5\n"
     ]
    }
   ],
   "source": [
    "a = 10\n",
    "b = 5\n",
    "c = 1\n",
    "\n",
    "Print_values(a, b, c)"
   ]
  },
  {
   "cell_type": "markdown",
   "id": "085f41e9",
   "metadata": {},
   "source": [
    "## 2. Continuous ceiling function"
   ]
  },
  {
   "cell_type": "code",
   "execution_count": 37,
   "id": "46e75fa0",
   "metadata": {},
   "outputs": [
    {
     "data": {
      "text/plain": [
       "[93, 45, 90, 23, 75]"
      ]
     },
     "execution_count": 37,
     "metadata": {},
     "output_type": "execute_result"
    }
   ],
   "source": [
    "import math\n",
    "import random\n",
    "\n",
    "# Generate a list with N random positive integers\n",
    "N = 5\n",
    "inputs = [round(random.random()*100) for x in range(N)]\n",
    "inputs"
   ]
  },
  {
   "cell_type": "code",
   "execution_count": 38,
   "id": "9026abc9",
   "metadata": {},
   "outputs": [],
   "source": [
    "# Define a function to find the ceiling of x/3\n",
    "def find_ceil(x):\n",
    "    ceil = math.ceil(x/3)\n",
    "    return ceil"
   ]
  },
  {
   "cell_type": "code",
   "execution_count": 39,
   "id": "8b9b8344",
   "metadata": {},
   "outputs": [],
   "source": [
    "# The main F(x) function using a while loop\n",
    "# continually calling the find_ceil function to reduce x to integer 1 \n",
    "def F(x):\n",
    "    \n",
    "    F_1 = 1\n",
    "    add_all=0\n",
    "\n",
    "    while x/3 > 1/3:\n",
    "        add_all = add_all+2*x\n",
    "        x = find_ceil(x)\n",
    "        find_ceil(x)\n",
    "        \n",
    "    output = F_1+add_all\n",
    "    return output"
   ]
  },
  {
   "cell_type": "code",
   "execution_count": 40,
   "id": "5e188df4",
   "metadata": {},
   "outputs": [
    {
     "name": "stdout",
     "output_type": "stream",
     "text": [
      "[283, 135, 273, 69, 225]\n"
     ]
    }
   ],
   "source": [
    "# Find and print all the outputs in a list\n",
    "outputs = []\n",
    "\n",
    "for x in inputs:\n",
    "    outputs.append(F(x))\n",
    "    \n",
    "print(outputs)"
   ]
  },
  {
   "cell_type": "markdown",
   "id": "bbcfa6b6",
   "metadata": {},
   "source": [
    "## 3. Dice rolling"
   ]
  },
  {
   "cell_type": "markdown",
   "id": "795761c3",
   "metadata": {},
   "source": [
    "### 3.1"
   ]
  },
  {
   "cell_type": "markdown",
   "id": "56cb0a36",
   "metadata": {},
   "source": [
    "#### a. An 'impossible' approach\n",
    "\n",
    "The first idea that comes into mind is to write a code to simulate die-rolling and repeat it as many times so as to obtain all possible ways to the target sum. This is a simple one to realise but performs horrible when you calculate more dice. In this case, 10-die-rolling is nearly impossible to solve, consuming huge amount of time.\n",
    "\n",
    "But the good point of this approach is, it gives detailed list of all possible ways(discarding repeated ones) and runs well when you have a relatively small number of dice(like 3,4 dice or so).\n",
    "\n",
    "Need to be mentioned, answer given by this approach can be either **'ordered'** or **'unordered'**. 'Ordered' means all the dice are thrown in a certain order, e.g. it can be count as two different way when you get a '1' with the 2nd die or a '1' with the 4th die, while other dice (and the sum itself) remain the same. 'Unordered' means you throw all the dice at once neglecting whether a number is given by a certain die. Since this approach stores all ways in a list, all difference between the two types is a `sort()` function(You'll see a comment about this in the code)."
   ]
  },
  {
   "cell_type": "code",
   "execution_count": 16,
   "id": "2e9cf547",
   "metadata": {},
   "outputs": [],
   "source": [
    "# We firstly define a function to simulate throwing one die, outputing an integer from 1 to 6(inclusive).\n",
    "import random\n",
    "\n",
    "def roll_a_die():\n",
    "    import math\n",
    "    num = math.ceil(random.random()*6)\n",
    "    return num"
   ]
  },
  {
   "cell_type": "code",
   "execution_count": 23,
   "id": "beb5c98b",
   "metadata": {},
   "outputs": [
    {
     "name": "stdout",
     "output_type": "stream",
     "text": [
      "All possible conbinations: \n",
      " [[1, 2, 1, 2], [2, 1, 2, 1], [1, 1, 3, 1], [1, 2, 2, 1], [1, 1, 2, 2], [2, 2, 1, 1], [2, 1, 1, 2], [1, 1, 1, 3], [1, 3, 1, 1], [3, 1, 1, 1]]\n",
      "\n",
      "Numbers of possible ways:  10\n"
     ]
    }
   ],
   "source": [
    "def An_impossible_approach(set_x):\n",
    "    samples = [] #Create a list to store all possible ways\n",
    "    for i in range(100000): #loop for as many times\n",
    "        dice = [roll_a_die() for dice in range(4)] #4 die rolled in this case\n",
    "        sum_x = 0 #initialise the sum value\n",
    "        for die in dice:\n",
    "            sum_x += die\n",
    "        if sum_x == set_x: \n",
    "            #dice.sort()\n",
    "            #the line above is optional,\n",
    "            #without it, the solution will be 'ordered'\n",
    "            if dice not in samples: #discard repeated ways\n",
    "                samples.append(dice)\n",
    "    return samples\n",
    "\n",
    "x = 6 #target sum x    \n",
    "print('All possible conbinations: \\n',An_impossible_approach(x))\n",
    "print('\\nNumbers of possible ways: ',len(An_impossible_approach(x)))"
   ]
  },
  {
   "cell_type": "markdown",
   "id": "88b2bee7",
   "metadata": {},
   "source": [
    "#### b. A feasible approach\n",
    "\n",
    "The following approach uses an idea of dynamic programming. I was inspired by [some blogs](https://www.geeksforgeeks.org/dice-throw-dp-30/) introducing such a programming scheme. Also, I found there is a similar problem on Leetcode with more requriements, which takes more dice with more faces into account while limiting running time of the code.\n",
    "\n",
    "Inspired by those blogs, I figured on my own the basic equation between the final sum and former throws,\n",
    "\n",
    "$$dp[n][j]=\\sum^f_{k=1}{dp[n-1][j-k]}$$\n",
    "\n",
    "where $n$ is number of dice(die) thrown, $j$ is the target sum value, $f$ is the total faces on each die, and $k$ is a incrementing index that ends at f.\n",
    "\n",
    "For exmaple, to find the number of ways that gives the sum 6 of 4 dice, we can turn to ways that gives the sum 5 of 3 dice plus one more throw that gives a '1'. This contains the idea of recursion - you need to find your answer in previous try, that is to break down your final sum value into previous tries until you have only 1 die that can definitely gives you numbers from 1 to 6(which is a certain '1' try).\n",
    "\n",
    "Besides the basic equation, there must be some boundary conditions to limit the answer into reasonalbe number of ways, discarding those repeated solutions and those that surely will not happen. I tried several times and compared code of others to confirm that my code functions correctly when given any reasonalbe input values."
   ]
  },
  {
   "cell_type": "code",
   "execution_count": 12,
   "id": "fe150c16",
   "metadata": {},
   "outputs": [],
   "source": [
    "# Define a function with two arguements,\n",
    "# n is number of dice thrown\n",
    "# j is the target sum value\n",
    "\n",
    "def Find_number_of_ways(n,j):\n",
    "    #the sum value should never exceed the total dots(n*6<j)\n",
    "    #and the recursion should also end when the number of dice\n",
    "    #is greater than the sum value(n>j) (cuz there's no 0 dot)\n",
    "    if n*6 < j or n > j:\n",
    "        return 0\n",
    "    if n == 1: #with one die, there's only one way\n",
    "        return 1\n",
    "    memo = 0 #initialise our memory to store sum values\n",
    "    for i in range(1,7):\n",
    "        memo += dice_roll(n-1,j-i) #this part is the equation\n",
    "    return memo"
   ]
  },
  {
   "cell_type": "code",
   "execution_count": 13,
   "id": "c64f7e35",
   "metadata": {
    "scrolled": false
   },
   "outputs": [
    {
     "data": {
      "text/plain": [
       "85228"
      ]
     },
     "execution_count": 13,
     "metadata": {},
     "output_type": "execute_result"
    }
   ],
   "source": [
    "# Test the funciton with 10 dice rolling a sum of 20\n",
    "Find_number_of_ways(10,20)"
   ]
  },
  {
   "cell_type": "markdown",
   "id": "2b7b05a4",
   "metadata": {},
   "source": [
    "This approach runs way more faster and is more acurate to realise the calculation. But problems still exist.\n",
    "\n",
    "- The code runs smoothly when there're only 10 dice which meets the assignment requirement. But the similar problem on Leetcode gives up to 30 dice with 30 faces. The run-time of this code exceeds the time limit unfortunately. Maybe it's because the `for` loop, but I'm not sure yet. I'll look into it afterwards.\n",
    "- Due to the algorithm it uses, the approach can only gives 'ordered' solutions. It means all the dice must have an order. I still don't know how to generate 'unordered' solutions like you throw the 10 dice all at once. It might be impossible, if not turn to other algorithms."
   ]
  },
  {
   "cell_type": "markdown",
   "id": "54038000",
   "metadata": {},
   "source": [
    "### 3.2"
   ]
  },
  {
   "cell_type": "code",
   "execution_count": null,
   "id": "05e8b837",
   "metadata": {},
   "outputs": [],
   "source": [
    "import numpy as np\n",
    "\n",
    "list_of_x = np.array([])"
   ]
  },
  {
   "cell_type": "markdown",
   "id": "f888a533",
   "metadata": {},
   "source": [
    "## 4. Dynamic programming"
   ]
  },
  {
   "cell_type": "markdown",
   "id": "0a4a1f59",
   "metadata": {},
   "source": [
    "### 4.1"
   ]
  },
  {
   "cell_type": "code",
   "execution_count": null,
   "id": "873df893",
   "metadata": {},
   "outputs": [],
   "source": []
  },
  {
   "cell_type": "markdown",
   "id": "40024b5b",
   "metadata": {},
   "source": [
    "### 4.2"
   ]
  },
  {
   "cell_type": "code",
   "execution_count": null,
   "id": "90dc2bce",
   "metadata": {},
   "outputs": [],
   "source": []
  },
  {
   "cell_type": "markdown",
   "id": "b9a69221",
   "metadata": {},
   "source": [
    "### 4.3"
   ]
  },
  {
   "cell_type": "code",
   "execution_count": null,
   "id": "b255ca8a",
   "metadata": {},
   "outputs": [],
   "source": []
  },
  {
   "cell_type": "markdown",
   "id": "f9bb55bc",
   "metadata": {},
   "source": [
    "## 5. Path counting"
   ]
  },
  {
   "cell_type": "markdown",
   "id": "3caf7939",
   "metadata": {},
   "source": [
    "### 5.1"
   ]
  },
  {
   "cell_type": "code",
   "execution_count": null,
   "id": "9298e454",
   "metadata": {},
   "outputs": [],
   "source": []
  },
  {
   "cell_type": "markdown",
   "id": "75787f41",
   "metadata": {},
   "source": [
    "### 5.2"
   ]
  },
  {
   "cell_type": "code",
   "execution_count": null,
   "id": "2997d4e0",
   "metadata": {},
   "outputs": [],
   "source": []
  },
  {
   "cell_type": "markdown",
   "id": "40e5d97b",
   "metadata": {},
   "source": [
    "### 5.3"
   ]
  },
  {
   "cell_type": "code",
   "execution_count": null,
   "id": "2df22a32",
   "metadata": {},
   "outputs": [],
   "source": []
  }
 ],
 "metadata": {
  "kernelspec": {
   "display_name": "Python 3 (ipykernel)",
   "language": "python",
   "name": "python3"
  },
  "language_info": {
   "codemirror_mode": {
    "name": "ipython",
    "version": 3
   },
   "file_extension": ".py",
   "mimetype": "text/x-python",
   "name": "python",
   "nbconvert_exporter": "python",
   "pygments_lexer": "ipython3",
   "version": "3.9.12"
  }
 },
 "nbformat": 4,
 "nbformat_minor": 5
}
