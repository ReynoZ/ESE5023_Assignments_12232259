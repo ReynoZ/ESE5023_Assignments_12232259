{
 "cells": [
  {
   "cell_type": "markdown",
   "id": "57a3fc8f",
   "metadata": {},
   "source": [
    "# PS5"
   ]
  },
  {
   "cell_type": "markdown",
   "id": "eff95ded",
   "metadata": {},
   "source": [
    "## Modeling of carbon cycle\n",
    "In this problem, we will build a box model to understand the Earth’s carbon cycle based on the framework in [Tomizuka 2009](https://mathcs.holycross.edu/~little/Montserrat1112/envmodbackup/1%252E3013196-1.pdf)."
   ]
  },
  {
   "cell_type": "markdown",
   "id": "2066af57",
   "metadata": {},
   "source": [
    "### 1.1\n",
    "Following equation 1-2 (without the buffer effect), build a two-box model to compute the atmospheric CO2 level in ppm (parts per million) from 1987 to 2004."
   ]
  },
  {
   "cell_type": "code",
   "execution_count": 1,
   "id": "cd3017a3",
   "metadata": {},
   "outputs": [],
   "source": [
    "import numpy as np\n",
    "import pandas as pd\n",
    "import matplotlib.pyplot as plt\n",
    "import scipy\n",
    "\n",
    "parameters = {'axes.labelsize': 15,\n",
    "              'axes.titlesize': 15}\n",
    "plt.rcParams.update(parameters)\n",
    "\n",
    "%matplotlib inline"
   ]
  },
  {
   "cell_type": "code",
   "execution_count": 2,
   "id": "e365d8cd",
   "metadata": {},
   "outputs": [
    {
     "data": {
      "text/plain": [
       "0    2.633333\n",
       "1    2.701878\n",
       "2    2.801878\n",
       "3    2.858216\n",
       "4    2.887793\n",
       "Name: Total carbon emissions from fossil-fuels (million metric tons of C), dtype: float64"
      ]
     },
     "execution_count": 2,
     "metadata": {},
     "output_type": "execute_result"
    }
   ],
   "source": [
    "# Import Global Co2 Emssions from Fossil-Fuel Burning data\n",
    "fsl_CO2 = pd.read_csv('data_files/global.1751_2008.csv', skiprows = [1], usecols = [0,1])\n",
    "fsl_CO2 = fsl_CO2.loc[(fsl_CO2['Year\"'] > 1985) & (fsl_CO2['Year\"'] < 2005)].reset_index(drop=True)\n",
    "# Convert the values into ppm\n",
    "fsl_CO2 = fsl_CO2.iloc[:,1]/1000/2.13\n",
    "fsl_CO2.head()"
   ]
  },
  {
   "cell_type": "code",
   "execution_count": 3,
   "id": "d75c7b3e",
   "metadata": {
    "scrolled": false
   },
   "outputs": [
    {
     "data": {
      "text/plain": [
       "Text(0, 0.5, '$\\\\gamma$')"
      ]
     },
     "execution_count": 3,
     "metadata": {},
     "output_type": "execute_result"
    },
    {
     "data": {
      "image/png": "[encoded data removed]",
      "text/plain": [
       "<Figure size 640x480 with 1 Axes>"
      ]
     },
     "metadata": {},
     "output_type": "display_data"
    }
   ],
   "source": [
    "# One tricky problem is that the gamma varies every year,\n",
    "# so we have to figure out a method to update the gamma\n",
    "# every step we take\n",
    "plt.plot(fsl_CO2, marker = '.')\n",
    "plt.title(r'$\\gamma$ from 1987 to 2004')\n",
    "plt.xticks([0,5,10,15,20])\n",
    "plt.xlabel('Years')\n",
    "plt.ylabel(r'$\\gamma$')"
   ]
  },
  {
   "cell_type": "code",
   "execution_count": 4,
   "id": "c1d128d3",
   "metadata": {},
   "outputs": [],
   "source": [
    "def twoBoxmodel(w, t, p):\n",
    "    \"\"\"\n",
    "    Defines the differential equations for the two-box system model.\n",
    "    \n",
    "    Arguments:\n",
    "        w: vector ofthe sate variables:\n",
    "            w = [N_1, N_2]\n",
    "        t: time\n",
    "        p: vector of the parameters:\n",
    "            p = [k_12, k_21, g]\n",
    "    \"\"\"\n",
    "    N_1, N_2 = w\n",
    "    k_12, k_21, g = p\n",
    "    \n",
    "    g = fsl_CO2[int(t)]\n",
    "    \n",
    "    # Create f = (N_1, N_2):\n",
    "    f = [-k_12*N_1 + k_21*N_2 + g,\n",
    "         k_12*N_1-k_21*N_2]\n",
    "    return f"
   ]
  },
  {
   "cell_type": "code",
   "execution_count": 5,
   "id": "16e55394",
   "metadata": {
    "scrolled": true
   },
   "outputs": [],
   "source": [
    "from scipy.integrate import odeint\n",
    "\n",
    "# Parameter values\n",
    "k_12 = 105/740\n",
    "k_21 = 102/900\n",
    "g = fsl_CO2[0]\n",
    "\n",
    "# Initial conditions\n",
    "N_1 = 740/2.13\n",
    "N_2 = 900/2.13\n",
    "\n",
    "# Set the time\n",
    "t = np.arange(0,2004-1986+1)\n",
    "\n",
    "# Pack up the parameters and initial conditions:\n",
    "p = [k_12, k_21, g]\n",
    "w0 = [N_1, N_2]\n",
    "\n",
    "# Call the ODE solver.\n",
    "wsol = odeint(twoBoxmodel, w0, t, args=(p,))\n",
    "atm_sol = wsol[:,0]\n",
    "soc_sol = wsol[:,0]"
   ]
  },
  {
   "cell_type": "code",
   "execution_count": 6,
   "id": "367a12b2",
   "metadata": {},
   "outputs": [
    {
     "data": {
      "text/html": [
       "<div>\n",
       "<style scoped>\n",
       "    .dataframe tbody tr th:only-of-type {\n",
       "        vertical-align: middle;\n",
       "    }\n",
       "\n",
       "    .dataframe tbody tr th {\n",
       "        vertical-align: top;\n",
       "    }\n",
       "\n",
       "    .dataframe thead th {\n",
       "        text-align: right;\n",
       "    }\n",
       "</style>\n",
       "<table border=\"1\" class=\"dataframe\">\n",
       "  <thead>\n",
       "    <tr style=\"text-align: right;\">\n",
       "      <th></th>\n",
       "      <th>Year</th>\n",
       "      <th>Atmos CO2 level (ppm)</th>\n",
       "    </tr>\n",
       "  </thead>\n",
       "  <tbody>\n",
       "    <tr>\n",
       "      <th>0</th>\n",
       "      <td>1986</td>\n",
       "      <td>347.417840</td>\n",
       "    </tr>\n",
       "    <tr>\n",
       "      <th>1</th>\n",
       "      <td>1987</td>\n",
       "      <td>348.636202</td>\n",
       "    </tr>\n",
       "    <tr>\n",
       "      <th>2</th>\n",
       "      <td>1988</td>\n",
       "      <td>349.907589</td>\n",
       "    </tr>\n",
       "    <tr>\n",
       "      <th>3</th>\n",
       "      <td>1989</td>\n",
       "      <td>351.256315</td>\n",
       "    </tr>\n",
       "    <tr>\n",
       "      <th>4</th>\n",
       "      <td>1990</td>\n",
       "      <td>352.634155</td>\n",
       "    </tr>\n",
       "    <tr>\n",
       "      <th>5</th>\n",
       "      <td>1991</td>\n",
       "      <td>354.015176</td>\n",
       "    </tr>\n",
       "    <tr>\n",
       "      <th>6</th>\n",
       "      <td>1992</td>\n",
       "      <td>355.412573</td>\n",
       "    </tr>\n",
       "    <tr>\n",
       "      <th>7</th>\n",
       "      <td>1993</td>\n",
       "      <td>356.761422</td>\n",
       "    </tr>\n",
       "    <tr>\n",
       "      <th>8</th>\n",
       "      <td>1994</td>\n",
       "      <td>358.093931</td>\n",
       "    </tr>\n",
       "    <tr>\n",
       "      <th>9</th>\n",
       "      <td>1995</td>\n",
       "      <td>359.465249</td>\n",
       "    </tr>\n",
       "    <tr>\n",
       "      <th>10</th>\n",
       "      <td>1996</td>\n",
       "      <td>360.883343</td>\n",
       "    </tr>\n",
       "    <tr>\n",
       "      <th>11</th>\n",
       "      <td>1997</td>\n",
       "      <td>362.339751</td>\n",
       "    </tr>\n",
       "    <tr>\n",
       "      <th>12</th>\n",
       "      <td>1998</td>\n",
       "      <td>363.825261</td>\n",
       "    </tr>\n",
       "    <tr>\n",
       "      <th>13</th>\n",
       "      <td>1999</td>\n",
       "      <td>365.278079</td>\n",
       "    </tr>\n",
       "    <tr>\n",
       "      <th>14</th>\n",
       "      <td>2000</td>\n",
       "      <td>366.691671</td>\n",
       "    </tr>\n",
       "    <tr>\n",
       "      <th>15</th>\n",
       "      <td>2001</td>\n",
       "      <td>368.168878</td>\n",
       "    </tr>\n",
       "    <tr>\n",
       "      <th>16</th>\n",
       "      <td>2002</td>\n",
       "      <td>369.703166</td>\n",
       "    </tr>\n",
       "    <tr>\n",
       "      <th>17</th>\n",
       "      <td>2003</td>\n",
       "      <td>371.245149</td>\n",
       "    </tr>\n",
       "    <tr>\n",
       "      <th>18</th>\n",
       "      <td>2004</td>\n",
       "      <td>372.950175</td>\n",
       "    </tr>\n",
       "  </tbody>\n",
       "</table>\n",
       "</div>"
      ],
      "text/plain": [
       "    Year  Atmos CO2 level (ppm)\n",
       "0   1986             347.417840\n",
       "1   1987             348.636202\n",
       "2   1988             349.907589\n",
       "3   1989             351.256315\n",
       "4   1990             352.634155\n",
       "5   1991             354.015176\n",
       "6   1992             355.412573\n",
       "7   1993             356.761422\n",
       "8   1994             358.093931\n",
       "9   1995             359.465249\n",
       "10  1996             360.883343\n",
       "11  1997             362.339751\n",
       "12  1998             363.825261\n",
       "13  1999             365.278079\n",
       "14  2000             366.691671\n",
       "15  2001             368.168878\n",
       "16  2002             369.703166\n",
       "17  2003             371.245149\n",
       "18  2004             372.950175"
      ]
     },
     "execution_count": 6,
     "metadata": {},
     "output_type": "execute_result"
    }
   ],
   "source": [
    "# Print the solution\n",
    "year = np.arange(1986,2005,1)\n",
    "sol_1 = pd.DataFrame({'Year':year,\n",
    "                      'Atmos CO2 level (ppm)':atm_sol})\n",
    "sol_1"
   ]
  },
  {
   "cell_type": "code",
   "execution_count": 7,
   "id": "5f703a88",
   "metadata": {},
   "outputs": [
    {
     "data": {
      "text/html": [
       "<div>\n",
       "<style scoped>\n",
       "    .dataframe tbody tr th:only-of-type {\n",
       "        vertical-align: middle;\n",
       "    }\n",
       "\n",
       "    .dataframe tbody tr th {\n",
       "        vertical-align: top;\n",
       "    }\n",
       "\n",
       "    .dataframe thead th {\n",
       "        text-align: right;\n",
       "    }\n",
       "</style>\n",
       "<table border=\"1\" class=\"dataframe\">\n",
       "  <thead>\n",
       "    <tr style=\"text-align: right;\">\n",
       "      <th></th>\n",
       "      <th>year</th>\n",
       "      <th>mean</th>\n",
       "    </tr>\n",
       "  </thead>\n",
       "  <tbody>\n",
       "    <tr>\n",
       "      <th>0</th>\n",
       "      <td>1986</td>\n",
       "      <td>347.61</td>\n",
       "    </tr>\n",
       "    <tr>\n",
       "      <th>1</th>\n",
       "      <td>1987</td>\n",
       "      <td>349.31</td>\n",
       "    </tr>\n",
       "    <tr>\n",
       "      <th>2</th>\n",
       "      <td>1988</td>\n",
       "      <td>351.69</td>\n",
       "    </tr>\n",
       "    <tr>\n",
       "      <th>3</th>\n",
       "      <td>1989</td>\n",
       "      <td>353.20</td>\n",
       "    </tr>\n",
       "    <tr>\n",
       "      <th>4</th>\n",
       "      <td>1990</td>\n",
       "      <td>354.45</td>\n",
       "    </tr>\n",
       "  </tbody>\n",
       "</table>\n",
       "</div>"
      ],
      "text/plain": [
       "   year    mean\n",
       "0  1986  347.61\n",
       "1  1987  349.31\n",
       "2  1988  351.69\n",
       "3  1989  353.20\n",
       "4  1990  354.45"
      ]
     },
     "execution_count": 7,
     "metadata": {},
     "output_type": "execute_result"
    }
   ],
   "source": [
    "# Import Mauna Lao Volcano Observed values\n",
    "obsv_CO2 = pd.read_csv('data_files/co2_annmean_mlo.csv',usecols = [0,1], comment = '#')\n",
    "obsv_CO2 = obsv_CO2.loc[(obsv_CO2['year'] > 1985) & (obsv_CO2['year'] < 2005)].reset_index(drop=True)\n",
    "obsv_CO2.head()"
   ]
  },
  {
   "cell_type": "code",
   "execution_count": 8,
   "id": "849a20c9",
   "metadata": {},
   "outputs": [
    {
     "data": {
      "image/png": "[encoded data removed]",
      "text/plain": [
       "<Figure size 800x500 with 1 Axes>"
      ]
     },
     "metadata": {},
     "output_type": "display_data"
    }
   ],
   "source": [
    "# Plot the solution and observation values\n",
    "fig, ax = plt.subplots(figsize=(8,5))\n",
    "ax.plot(year,atm_sol,c = 'coral')\n",
    "ax.scatter(year,obsv_CO2['mean'],c = 'crimson')\n",
    "ax.set(title = r'The CO$_2$ trend predicted by the two-box model',\n",
    "       xlabel = 'Year', ylabel = r'CO$_2$ Concentration (ppm)',\n",
    "       xticks = np.arange(1985,2010,5))\n",
    "ax.legend(['calculation without buffer effect','observations'])\n",
    "ax.spines['top'].set_visible(None)\n",
    "ax.spines['right'].set_visible(None)\n",
    "ax.tick_params('both',which = 'major', direction = 'in')\n",
    "plt.show()"
   ]
  },
  {
   "cell_type": "markdown",
   "id": "d625cd11",
   "metadata": {},
   "source": [
    "### 1.2\n",
    "Following equation 3-4 (with the buffer effect), build a two-box model to compute the atmospheric CO2 level in ppm from 1987 to 2004."
   ]
  },
  {
   "cell_type": "code",
   "execution_count": 9,
   "id": "7d08e163",
   "metadata": {},
   "outputs": [],
   "source": [
    "def xi(N_1):\n",
    "    xi = 3.69+1.86*(1e-2)*N_1-1.8*(1e-6)*N_1*N_1\n",
    "    return xi"
   ]
  },
  {
   "cell_type": "code",
   "execution_count": 10,
   "id": "85767913",
   "metadata": {},
   "outputs": [],
   "source": [
    "def twoBoxmodel_buffer(w, t, p):\n",
    "    \"\"\"\n",
    "    Defines the differential equations for the two-box system model.\n",
    "    \n",
    "    Arguments:\n",
    "        w: vector ofthe sate variables:\n",
    "            w = [N_1, N_2]\n",
    "        t: time\n",
    "        p: vector of the parameters:\n",
    "            p = [k_12, k_21, N_20, g, xi]\n",
    "    \"\"\"\n",
    "    N_1, N_2 = w\n",
    "    k_12, k_21, N_20, g, x = p\n",
    "    \n",
    "    g = fsl_CO2[int(t)]\n",
    "    x = xi(N_1)\n",
    "    \n",
    "    # Create f = (N_1, N_2):\n",
    "    f = [-k_12*N_1 + k_21*(N_20+x*(N_2-N_20)) + g,\n",
    "         k_12*N_1-k_21*(N_20+x*(N_2-N_20))]\n",
    "    return f"
   ]
  },
  {
   "cell_type": "code",
   "execution_count": 11,
   "id": "0bcd14fa",
   "metadata": {},
   "outputs": [],
   "source": [
    "# Parameter values\n",
    "k_12 = 105/740\n",
    "k_21 = 102/900\n",
    "N_20 = 821/2.13\n",
    "g = fsl_CO2[0]\n",
    "\n",
    "# Initial conditions\n",
    "N_1 = 740/2.13\n",
    "N_2 = 900/2.13\n",
    "x = xi(N_1)\n",
    "\n",
    "# Set the time\n",
    "t = np.arange(0,2004-1986+1)\n",
    "\n",
    "# Pack up the parameters and initial conditions:\n",
    "p = [k_12, k_21, N_20, g, x]\n",
    "w0 = [N_1, N_2]\n",
    "\n",
    "# Call the ODE solver.\n",
    "wsol_buffer = odeint(twoBoxmodel_buffer, w0, t, args=(p,))"
   ]
  },
  {
   "cell_type": "code",
   "execution_count": 12,
   "id": "7646d7b5",
   "metadata": {},
   "outputs": [],
   "source": [
    "atm_sol_buffer = wsol_buffer[:,0]\n",
    "soc_sol_buffer = wsol_buffer[:,0]"
   ]
  },
  {
   "cell_type": "code",
   "execution_count": 13,
   "id": "8b12c923",
   "metadata": {},
   "outputs": [
    {
     "data": {
      "text/html": [
       "<div>\n",
       "<style scoped>\n",
       "    .dataframe tbody tr th:only-of-type {\n",
       "        vertical-align: middle;\n",
       "    }\n",
       "\n",
       "    .dataframe tbody tr th {\n",
       "        vertical-align: top;\n",
       "    }\n",
       "\n",
       "    .dataframe thead th {\n",
       "        text-align: right;\n",
       "    }\n",
       "</style>\n",
       "<table border=\"1\" class=\"dataframe\">\n",
       "  <thead>\n",
       "    <tr style=\"text-align: right;\">\n",
       "      <th></th>\n",
       "      <th>Year</th>\n",
       "      <th>Atmos CO2 level (ppm)</th>\n",
       "    </tr>\n",
       "  </thead>\n",
       "  <tbody>\n",
       "    <tr>\n",
       "      <th>0</th>\n",
       "      <td>1986</td>\n",
       "      <td>347.417840</td>\n",
       "    </tr>\n",
       "    <tr>\n",
       "      <th>1</th>\n",
       "      <td>1987</td>\n",
       "      <td>370.778493</td>\n",
       "    </tr>\n",
       "    <tr>\n",
       "      <th>2</th>\n",
       "      <td>1988</td>\n",
       "      <td>379.125990</td>\n",
       "    </tr>\n",
       "    <tr>\n",
       "      <th>3</th>\n",
       "      <td>1989</td>\n",
       "      <td>383.271379</td>\n",
       "    </tr>\n",
       "    <tr>\n",
       "      <th>4</th>\n",
       "      <td>1990</td>\n",
       "      <td>386.294622</td>\n",
       "    </tr>\n",
       "    <tr>\n",
       "      <th>5</th>\n",
       "      <td>1991</td>\n",
       "      <td>389.029031</td>\n",
       "    </tr>\n",
       "    <tr>\n",
       "      <th>6</th>\n",
       "      <td>1992</td>\n",
       "      <td>391.718680</td>\n",
       "    </tr>\n",
       "    <tr>\n",
       "      <th>7</th>\n",
       "      <td>1993</td>\n",
       "      <td>394.358466</td>\n",
       "    </tr>\n",
       "    <tr>\n",
       "      <th>8</th>\n",
       "      <td>1994</td>\n",
       "      <td>396.992236</td>\n",
       "    </tr>\n",
       "    <tr>\n",
       "      <th>9</th>\n",
       "      <td>1995</td>\n",
       "      <td>399.677076</td>\n",
       "    </tr>\n",
       "    <tr>\n",
       "      <th>10</th>\n",
       "      <td>1996</td>\n",
       "      <td>402.423829</td>\n",
       "    </tr>\n",
       "    <tr>\n",
       "      <th>11</th>\n",
       "      <td>1997</td>\n",
       "      <td>405.227369</td>\n",
       "    </tr>\n",
       "    <tr>\n",
       "      <th>12</th>\n",
       "      <td>1998</td>\n",
       "      <td>408.081010</td>\n",
       "    </tr>\n",
       "    <tr>\n",
       "      <th>13</th>\n",
       "      <td>1999</td>\n",
       "      <td>410.922917</td>\n",
       "    </tr>\n",
       "    <tr>\n",
       "      <th>14</th>\n",
       "      <td>2000</td>\n",
       "      <td>413.742402</td>\n",
       "    </tr>\n",
       "    <tr>\n",
       "      <th>15</th>\n",
       "      <td>2001</td>\n",
       "      <td>416.639736</td>\n",
       "    </tr>\n",
       "    <tr>\n",
       "      <th>16</th>\n",
       "      <td>2002</td>\n",
       "      <td>419.611602</td>\n",
       "    </tr>\n",
       "    <tr>\n",
       "      <th>17</th>\n",
       "      <td>2003</td>\n",
       "      <td>422.611681</td>\n",
       "    </tr>\n",
       "    <tr>\n",
       "      <th>18</th>\n",
       "      <td>2004</td>\n",
       "      <td>425.799883</td>\n",
       "    </tr>\n",
       "  </tbody>\n",
       "</table>\n",
       "</div>"
      ],
      "text/plain": [
       "    Year  Atmos CO2 level (ppm)\n",
       "0   1986             347.417840\n",
       "1   1987             370.778493\n",
       "2   1988             379.125990\n",
       "3   1989             383.271379\n",
       "4   1990             386.294622\n",
       "5   1991             389.029031\n",
       "6   1992             391.718680\n",
       "7   1993             394.358466\n",
       "8   1994             396.992236\n",
       "9   1995             399.677076\n",
       "10  1996             402.423829\n",
       "11  1997             405.227369\n",
       "12  1998             408.081010\n",
       "13  1999             410.922917\n",
       "14  2000             413.742402\n",
       "15  2001             416.639736\n",
       "16  2002             419.611602\n",
       "17  2003             422.611681\n",
       "18  2004             425.799883"
      ]
     },
     "execution_count": 13,
     "metadata": {},
     "output_type": "execute_result"
    }
   ],
   "source": [
    "# Print the solution\n",
    "sol_2 = pd.DataFrame({'Year':year,\n",
    "                      'Atmos CO2 level (ppm)':atm_sol_buffer})\n",
    "sol_2"
   ]
  },
  {
   "cell_type": "markdown",
   "id": "1aef9d04",
   "metadata": {},
   "source": [
    "### 1.3\n",
    "Based on your results from 1.1 and 1.2, reproduce Figure 2 in Tomizuka (2009) as much as you can."
   ]
  },
  {
   "cell_type": "code",
   "execution_count": 14,
   "id": "2a59f7a3",
   "metadata": {},
   "outputs": [
    {
     "data": {
      "image/png": "[encoded data removed]",
      "text/plain": [
       "<Figure size 800x500 with 1 Axes>"
      ]
     },
     "metadata": {},
     "output_type": "display_data"
    }
   ],
   "source": [
    "# Plot the solution and observation values\n",
    "fig, ax = plt.subplots(figsize=(8,5))\n",
    "ax.plot(year[1:],atm_sol[1:],c = 'coral')\n",
    "ax.plot(year[1:],atm_sol_buffer[1:], linewidth = 3, c = 'chocolate')\n",
    "ax.scatter(year,obsv_CO2['mean'],c = 'crimson')\n",
    "ax.set(xlabel = 'Year', ylabel = r'CO$_2$ Concentration (ppm)',\n",
    "       xticks = np.arange(1985,2010,5),\n",
    "       ylim = (340,430),\n",
    "       yticks = np.arange(360,440,20))\n",
    "ax.spines['top'].set_visible(None)\n",
    "ax.spines['right'].set_visible(None)\n",
    "ax.tick_params('both',which = 'major', direction = 'in')\n",
    "ax.annotate('calculation without buffer effect',(1988,415), fontsize = 12)\n",
    "ax.annotate('calculation with buffer effect',(1994,350), fontsize = 12)\n",
    "ax.annotate('observations',(1999,385), fontsize = 12)\n",
    "plt.show()"
   ]
  }
 ],
 "metadata": {
  "kernelspec": {
   "display_name": "Python 3 (ipykernel)",
   "language": "python",
   "name": "python3"
  },
  "language_info": {
   "codemirror_mode": {
    "name": "ipython",
    "version": 3
   },
   "file_extension": ".py",
   "mimetype": "text/x-python",
   "name": "python",
   "nbconvert_exporter": "python",
   "pygments_lexer": "ipython3",
   "version": "3.9.12"
  }
 },
 "nbformat": 4,
 "nbformat_minor": 5
}
