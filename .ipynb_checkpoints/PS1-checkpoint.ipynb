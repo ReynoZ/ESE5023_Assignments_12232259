{
 "cells": [
  {
   "cell_type": "markdown",
   "id": "8abb83b7",
   "metadata": {},
   "source": [
    "# PS1"
   ]
  },
  {
   "cell_type": "markdown",
   "id": "9b60ff9d",
   "metadata": {},
   "source": [
    "## 1. Flowchart"
   ]
  },
  {
   "attachments": {},
   "cell_type": "markdown",
   "id": "8fcef294",
   "metadata": {},
   "source": [
    "Write a function Print_values with arguments a, b, and c to reflect the following flowchart. Here the purple parallelogram operator on a list `[x, y, z]` is to compute and print `x+y-10z`. Try your output with some random `a`, `b`, and `c` values. Report your output when `a = 10, b = 5, c = 1`.\n",
    "\n",
    "<div>\n",
    "<img src=\"https://zhu-group.github.io/ese5023/figs/flowchart_a1.png\" width=\"300\"/>\n",
    "<div>"
   ]
  },
  {
   "cell_type": "markdown",
   "id": "f7e00f76",
   "metadata": {},
   "source": [
    "**Solution:**"
   ]
  },
  {
   "cell_type": "code",
   "execution_count": 1,
   "id": "dcedc4ad",
   "metadata": {},
   "outputs": [],
   "source": [
    "def Print_values(a, b, c):\n",
    "    if a > b:\n",
    "        if b > c:\n",
    "            lst = [a, b, c]\n",
    "        else:\n",
    "            if a > c:\n",
    "                lst = [a, c, b]\n",
    "            else:\n",
    "                lst = [c, a, b]\n",
    "    else:\n",
    "        if b > c:\n",
    "            if a > c:\n",
    "                lst = [a, c, b]\n",
    "            else:\n",
    "                lst = [c, a, b]\n",
    "        else:\n",
    "            lst = [c, b, a]\n",
    "    output = lst[0]+lst[1]-10*lst[2]\n",
    "    print(output)"
   ]
  },
  {
   "cell_type": "code",
   "execution_count": 2,
   "id": "30a10b73",
   "metadata": {},
   "outputs": [
    {
     "name": "stdout",
     "output_type": "stream",
     "text": [
      "97 14 78\n",
      "35\n"
     ]
    }
   ],
   "source": [
    "import random\n",
    "\n",
    "a = round(random.random()*100)\n",
    "b = round(random.random()*100)\n",
    "c = round(random.random()*100)\n",
    "print(a,b,c)\n",
    "\n",
    "Print_values(a, b, c)"
   ]
  },
  {
   "cell_type": "code",
   "execution_count": 3,
   "id": "71f02872",
   "metadata": {},
   "outputs": [
    {
     "name": "stdout",
     "output_type": "stream",
     "text": [
      "5\n"
     ]
    }
   ],
   "source": [
    "a = 10\n",
    "b = 5\n",
    "c = 1\n",
    "\n",
    "Print_values(a, b, c)"
   ]
  },
  {
   "cell_type": "markdown",
   "id": "085f41e9",
   "metadata": {},
   "source": [
    "## 2. Continuous ceiling function\n",
    "Given a list with `N` positive integers. For every element `x` of the list, find the value of continuous ceiling function defined as $F(x) = F(\\text{ceil}(x/3)) + 2x$, where $F(1) = 1$."
   ]
  },
  {
   "cell_type": "markdown",
   "id": "9ebb9236",
   "metadata": {},
   "source": [
    "**Solution:**"
   ]
  },
  {
   "cell_type": "code",
   "execution_count": 4,
   "id": "46e75fa0",
   "metadata": {},
   "outputs": [
    {
     "data": {
      "text/plain": [
       "[66, 94, 78, 18, 53]"
      ]
     },
     "execution_count": 4,
     "metadata": {},
     "output_type": "execute_result"
    }
   ],
   "source": [
    "import math\n",
    "import random\n",
    "\n",
    "# Generate a list with N random positive integers\n",
    "N = 5\n",
    "inputs = [round(random.random()*100) for x in range(N)]\n",
    "inputs"
   ]
  },
  {
   "cell_type": "code",
   "execution_count": 5,
   "id": "9026abc9",
   "metadata": {},
   "outputs": [],
   "source": [
    "# Define a function to find the ceiling of x/3\n",
    "def find_ceil(x):\n",
    "    ceil = math.ceil(x/3)\n",
    "    return ceil"
   ]
  },
  {
   "cell_type": "code",
   "execution_count": 6,
   "id": "8b9b8344",
   "metadata": {},
   "outputs": [],
   "source": [
    "# The main F(x) function using a while loop\n",
    "# continually calling the find_ceil function\n",
    "# to reduce x to integer 1 \n",
    "def F(x):\n",
    "    \n",
    "    F_1 = 1\n",
    "    add_all=0\n",
    "\n",
    "    while x/3 > 1/3:\n",
    "        add_all = add_all+2*x\n",
    "        x = find_ceil(x)\n",
    "        find_ceil(x)\n",
    "        \n",
    "    output = F_1+add_all\n",
    "    return output"
   ]
  },
  {
   "cell_type": "code",
   "execution_count": 7,
   "id": "5e188df4",
   "metadata": {},
   "outputs": [
    {
     "name": "stdout",
     "output_type": "stream",
     "text": [
      "[199, 287, 233, 53, 159]\n"
     ]
    }
   ],
   "source": [
    "# Find and print all the outputs in a list\n",
    "outputs = []\n",
    "\n",
    "for x in inputs:\n",
    "    outputs.append(F(x))\n",
    "    \n",
    "print(outputs)"
   ]
  },
  {
   "cell_type": "markdown",
   "id": "bbcfa6b6",
   "metadata": {},
   "source": [
    "## 3. Dice rolling"
   ]
  },
  {
   "cell_type": "markdown",
   "id": "795761c3",
   "metadata": {},
   "source": [
    "### 3.1\n",
    "Given 10 dice each with 6 faces, numbered from 1 to 6. Write a function `Find_number_of_ways` to find the number of ways to get sum `x`, defined as the sum of values on each face when all the dice are thrown."
   ]
  },
  {
   "cell_type": "markdown",
   "id": "56cb0a36",
   "metadata": {},
   "source": [
    "#### a. An 'impossible' approach\n",
    "\n",
    "The first idea that comes into mind is to write a code to simulate die-rolling and repeat it as many times so as to obtain all possible ways to the target sum. This is a simple one to realise but performs horrible when you calculate more dice. In this case, 10-die-rolling is nearly impossible to solve, consuming huge amount of time.\n",
    "\n",
    "But the good point of this approach is, it gives detailed list of all possible ways(discarding repeated ones) and runs well when you have a relatively small number of dice(like 3,4 dice or so).\n",
    "\n",
    "Need to be mentioned, answer given by this approach can be either **'ordered'** or **'unordered'**. 'Ordered' means all the dice are thrown in a certain order, e.g. it can be count as two different way when you get a '1' with the 2nd die or a '1' with the 4th die, while other dice (and the sum itself) remain the same. 'Unordered' means you throw all the dice at once neglecting whether a number is given by a certain die. Since this approach stores all ways in a list, all difference between the two types is a `sort()` function(You'll see a comment about this in the code)."
   ]
  },
  {
   "cell_type": "markdown",
   "id": "3eceae5c",
   "metadata": {},
   "source": [
    "**Solution:**"
   ]
  },
  {
   "cell_type": "code",
   "execution_count": 8,
   "id": "2e9cf547",
   "metadata": {},
   "outputs": [],
   "source": [
    "# We firstly define a function to simulate throwing one die,\n",
    "# outputing an integer from 1 to 6(inclusive).\n",
    "\n",
    "def roll_a_die():\n",
    "    import math\n",
    "    import random\n",
    "\n",
    "    num = math.ceil(random.random()*6)\n",
    "    return num"
   ]
  },
  {
   "cell_type": "code",
   "execution_count": 9,
   "id": "beb5c98b",
   "metadata": {},
   "outputs": [
    {
     "name": "stdout",
     "output_type": "stream",
     "text": [
      "All possible conbinations: \n",
      " [[1, 1, 2, 2], [1, 1, 3, 1], [2, 1, 1, 2], [2, 1, 2, 1], [2, 2, 1, 1], [1, 1, 1, 3], [3, 1, 1, 1], [1, 2, 2, 1], [1, 2, 1, 2], [1, 3, 1, 1]]\n",
      "\n",
      "Numbers of possible ways:  10\n"
     ]
    }
   ],
   "source": [
    "def An_impossible_approach(set_x):\n",
    "    samples = [] #Create a list to store all possible ways\n",
    "    for i in range(100000): #loop for as many times\n",
    "        dice = [roll_a_die() for dice in range(4)]\n",
    "        #4 die rolled in this case\n",
    "        sum_x = 0 #initialise the sum value\n",
    "        for die in dice:\n",
    "            sum_x += die\n",
    "        if sum_x == set_x: \n",
    "            #dice.sort()\n",
    "            #the line above is optional,\n",
    "            #without it, the solution will be 'ordered'\n",
    "            if dice not in samples: #discard repeated ways\n",
    "                samples.append(dice)\n",
    "    return samples\n",
    "\n",
    "x = 6 #target sum x    \n",
    "print('All possible conbinations: \\n',\n",
    "      An_impossible_approach(x))\n",
    "print('\\nNumbers of possible ways: ',\n",
    "      len(An_impossible_approach(x)))"
   ]
  },
  {
   "cell_type": "markdown",
   "id": "88b2bee7",
   "metadata": {},
   "source": [
    "#### b. A feasible approach\n",
    "\n",
    "The following approach uses an idea of dynamic programming. I was inspired by [some blogs](https://www.geeksforgeeks.org/dice-throw-dp-30/) introducing such a programming scheme. Also, I found there is a similar problem on Leetcode with more requriements, which takes more dice with more faces into account while limiting running time of the code.\n",
    "\n",
    "Inspired by those blogs, I figured on my own the basic equation between the final sum and former throws,\n",
    "\n",
    "$$dp[n][j]=\\sum^f_{k=1}{dp[n-1][j-k]}$$\n",
    "\n",
    "where $n$ is number of dice(die) thrown, $j$ is the target sum value, $f$ is the total faces on each die, and $k$ is a incrementing index that ends at f.\n",
    "\n",
    "For exmaple, to find the number of ways that gives the sum 6 of 4 dice, we can turn to ways that gives the sum 5 of 3 dice plus one more throw that gives a '1'. This contains the idea of recursion - you need to find your answer in previous try, that is to break down your final sum value into previous tries until you have only 1 die that can definitely gives you numbers from 1 to 6(which is a certain '1' try).\n",
    "\n",
    "Besides the basic equation, there must be some boundary conditions to limit the answer into reasonalbe number of ways, discarding those repeated solutions and those that surely will not happen. I tried several times and compared code of others to confirm that my code functions correctly when given any reasonalbe input values."
   ]
  },
  {
   "cell_type": "markdown",
   "id": "761df2fa",
   "metadata": {},
   "source": [
    "**Solution:**"
   ]
  },
  {
   "cell_type": "code",
   "execution_count": 10,
   "id": "7764d774",
   "metadata": {},
   "outputs": [],
   "source": [
    "# Define a function with two arguements,\n",
    "# n is number of dice thrown\n",
    "# j is the target sum value\n",
    "\n",
    "def Find_number_of_ways(n,j):\n",
    "    #the sum value should never exceed the total dots(n*6<j)\n",
    "    #and the recursion should also end when the number of dice\n",
    "    #is greater than the sum value(n>j) (cuz there's no 0 dot)\n",
    "    if n*6 < j or n > j:\n",
    "        return 0\n",
    "    if n == 1: #with one die, there's only one way\n",
    "        return 1\n",
    "    memo = 0 #initialise our memory to store sum values\n",
    "    for i in range(1,7):\n",
    "        memo += Find_number_of_ways(n-1,j-i)\n",
    "        #this part is the equation\n",
    "    return memo"
   ]
  },
  {
   "cell_type": "code",
   "execution_count": 11,
   "id": "c64f7e35",
   "metadata": {
    "scrolled": false
   },
   "outputs": [
    {
     "data": {
      "text/plain": [
       "85228"
      ]
     },
     "execution_count": 11,
     "metadata": {},
     "output_type": "execute_result"
    }
   ],
   "source": [
    "# Test the funciton with 10 dice rolling a sum of 20\n",
    "Find_number_of_ways(10,20)"
   ]
  },
  {
   "cell_type": "markdown",
   "id": "cda70997",
   "metadata": {},
   "source": [
    "This approach runs way more faster and is more acurate to realise the calculation. But problems still exist.\n",
    "\n",
    "- The code runs smoothly when there're only 10 dice which meets the assignment requirement. But the similar problem on Leetcode gives up to 30 dice with 30 faces. The run-time of this code exceeds the time limit unfortunately. Maybe it's because the `for` loop, but I'm not sure yet. I'll look into it afterwards.\n",
    "- Due to the algorithm it uses, the approach can only gives 'ordered' solutions. It means all the dice must have an order. I still don't know how to generate 'unordered' solutions like you throw the 10 dice all at once. It might be impossible, if not turn to other algorithms."
   ]
  },
  {
   "cell_type": "markdown",
   "id": "54038000",
   "metadata": {},
   "source": [
    "### 3.2\n",
    "Count the number of ways for any `x` from 10 to 60, assign the number of ways to a list called `Number_of_ways`, so which `x` yields the maximum of `Number_of_ways`?"
   ]
  },
  {
   "cell_type": "markdown",
   "id": "c65e51be",
   "metadata": {},
   "source": [
    "**Solution:**"
   ]
  },
  {
   "cell_type": "code",
   "execution_count": 12,
   "id": "05e8b837",
   "metadata": {},
   "outputs": [
    {
     "name": "stdout",
     "output_type": "stream",
     "text": [
      "[1, 10, 55, 220, 715, 2002, 4995, 11340, 23760, 46420, 85228, 147940, 243925, 383470, 576565, 831204, 1151370, 1535040, 1972630, 2446300, 2930455, 3393610, 3801535, 4121260, 4325310, 4395456, 4325310, 4121260, 3801535, 3393610, 2930455, 2446300, 1972630, 1535040, 1151370, 831204, 576565, 383470, 243925, 147940, 85228, 46420, 23760, 11340, 4995, 2002, 715, 220, 55, 10, 1]\n"
     ]
    }
   ],
   "source": [
    "Number_of_ways = []\n",
    "\n",
    "for x in range(10,61):\n",
    "    Number_of_ways.append(Find_number_of_ways(10,x))\n",
    "\n",
    "print(Number_of_ways)"
   ]
  },
  {
   "cell_type": "code",
   "execution_count": 13,
   "id": "8bd85130",
   "metadata": {},
   "outputs": [
    {
     "name": "stdout",
     "output_type": "stream",
     "text": [
      "4395456 35\n"
     ]
    }
   ],
   "source": [
    "import numpy as np\n",
    "\n",
    "max_ways = np.array(Number_of_ways).max()\n",
    "max_value = np.argmax(Number_of_ways)+10\n",
    "print(max_ways, max_value)"
   ]
  },
  {
   "cell_type": "markdown",
   "id": "f888a533",
   "metadata": {},
   "source": [
    "## 4. Dynamic programming"
   ]
  },
  {
   "cell_type": "markdown",
   "id": "0a4a1f59",
   "metadata": {},
   "source": [
    "### 4.1\n",
    "Write a function `Random_integer` to fill an array of `N` elements by randomly selecting integers from 0 to 10."
   ]
  },
  {
   "cell_type": "markdown",
   "id": "9037ee4b",
   "metadata": {},
   "source": [
    "**Solution:**"
   ]
  },
  {
   "cell_type": "code",
   "execution_count": 14,
   "id": "873df893",
   "metadata": {},
   "outputs": [],
   "source": [
    "def Random_integer(N):\n",
    "    \n",
    "    import random\n",
    "    \n",
    "    arr = [round(random.random()*10) for x in range(N)]\n",
    "    \n",
    "    return arr"
   ]
  },
  {
   "cell_type": "markdown",
   "id": "40024b5b",
   "metadata": {},
   "source": [
    "### 4.2\n",
    "Write a function `Sum_averages` to compute the sum of the average of all subsets of the array. For example, given an array of `[1, 2, 3]`, you `Sum_averages` function should compute the sum of: average of `[1]`, average of `[2]`, average of `[3]`, average of `[1, 2]`, average of `[1, 3]`, average of `[2, 3]`, and average of `[1, 2, 3]`."
   ]
  },
  {
   "cell_type": "markdown",
   "id": "801a8576",
   "metadata": {},
   "source": [
    "This problem seems to be complicated at first glimpse since it might include combination of numbers in an array. But the problem actually simplifies when it comese to calculate the sum of averages. Because there might be some patterns. So I catecorize all the averages into several classes, according to the number of elements in it, e.g. average of 1 element list, average of 2 elements list, average of 3 elements list, etc, each denoted as $\\text{dp}[1],\\text{dp}[2],\\text{dp}[3]...$. It is not hard to notice a pattern from $\\text{dp}[2]$ to $\\text{dp}[n]$:\n",
    "\n",
    "$$\n",
    "\\text{dp}[i]=\\frac{\\text{dp}[i-1]\\times(i-1)-\\text{sum}(a)}{i}\n",
    "$$\n",
    "\n",
    "where $\\text{sum(a)}$ means the sum of all elements in the original array `a`.\n",
    "\n",
    "But $\\text{dp}[1]=\\text{sum}(a)$, $\\text{dp}[2]=\\text{sum}(a)*(\\text{len}(a)-1)/2$\n",
    "\n",
    "Then, we only need to calculate,\n",
    "\n",
    "$$\n",
    "\\sum_{i=1}^{\\text{len(a)}}{\\text{dp}[i]}\n",
    "$$"
   ]
  },
  {
   "cell_type": "markdown",
   "id": "785f1923",
   "metadata": {},
   "source": [
    "**Solution:**"
   ]
  },
  {
   "cell_type": "code",
   "execution_count": 15,
   "id": "90dc2bce",
   "metadata": {},
   "outputs": [],
   "source": [
    "# First define a function to calculate each averages\n",
    "# It has three arguments\n",
    "# i to denote the number of elements\n",
    "# sum_arr is the sum of original array\n",
    "# length to memorise the initial length\n",
    "# and will not be changed in recursion\n",
    "\n",
    "def Averages(i,sum_arr,length):\n",
    "    if i == 0:\n",
    "        return 0\n",
    "    if i == 1:\n",
    "        return sum_arr\n",
    "    if i == 2:\n",
    "        ave = sum_arr*(length-1)/2\n",
    "        return ave\n",
    "    ave = (Averages(i-1,sum_arr,length)*(i-1)-sum_arr)/i\n",
    "    return ave"
   ]
  },
  {
   "cell_type": "code",
   "execution_count": 16,
   "id": "69530d62",
   "metadata": {},
   "outputs": [
    {
     "data": {
      "text/plain": [
       "14.0"
      ]
     },
     "execution_count": 16,
     "metadata": {},
     "output_type": "execute_result"
    }
   ],
   "source": [
    "# This is the main function.\n",
    "# It uses a for loop to sum all the averages\n",
    "\n",
    "def Sum_averages(arr):\n",
    "    length = len(arr)\n",
    "    ave = 0\n",
    "    for i in range(1,length+1):\n",
    "        ave += Averages(i,sum(arr),length)\n",
    "    return ave\n",
    "\n",
    "# A simple test\n",
    "arr = [1,2,3]\n",
    "Sum_averages(arr)"
   ]
  },
  {
   "cell_type": "markdown",
   "id": "b9a69221",
   "metadata": {},
   "source": [
    "### 4.3\n",
    "Call `Sum_averages` with `N` increasing from 1 to 100, assign the output to a list called `Total_sum_averages`. Plot `Total_sum_averages`, describe what do you see."
   ]
  },
  {
   "cell_type": "markdown",
   "id": "eabd2ea0",
   "metadata": {},
   "source": [
    "**Solution:**"
   ]
  },
  {
   "cell_type": "code",
   "execution_count": 17,
   "id": "b255ca8a",
   "metadata": {},
   "outputs": [
    {
     "data": {
      "text/plain": [
       "Text(0, 0.5, 'Total sum averages')"
      ]
     },
     "execution_count": 17,
     "metadata": {},
     "output_type": "execute_result"
    },
    {
     "data": {
      "image/png": "[encoded data removed]",
      "text/plain": [
       "<Figure size 640x480 with 1 Axes>"
      ]
     },
     "metadata": {},
     "output_type": "display_data"
    }
   ],
   "source": [
    "%matplotlib inline\n",
    "\n",
    "import matplotlib.pyplot as plt\n",
    "Total_sum_averages = []\n",
    "for N in range(1,101):\n",
    "    Total_sum_averages.append(Sum_averages(Random_integer(N)))\n",
    "    \n",
    "plt.plot(Total_sum_averages)\n",
    "plt.xlabel('N')\n",
    "plt.ylabel('Total sum averages')"
   ]
  },
  {
   "cell_type": "markdown",
   "id": "f9bb55bc",
   "metadata": {},
   "source": [
    "## 5. Path counting"
   ]
  },
  {
   "cell_type": "markdown",
   "id": "3caf7939",
   "metadata": {},
   "source": [
    "### 5.1\n",
    "Create a matrix with `N` rows and `M` columns, fill the right-bottom corner and top-left corner cells with 1, and randomly fill the rest of matrix with integer 0 or 1."
   ]
  },
  {
   "cell_type": "markdown",
   "id": "293b1406",
   "metadata": {},
   "source": [
    "**Solution:**"
   ]
  },
  {
   "cell_type": "code",
   "execution_count": 18,
   "id": "9298e454",
   "metadata": {},
   "outputs": [],
   "source": [
    "def Creat_a_matrix(N,M):\n",
    "    import numpy as np\n",
    "    import random\n",
    "    \n",
    "    m = np.random.randint(0,2,size=(N,M))\n",
    "    m[N-1,M-1] = 1\n",
    "    m[0,0] = 1\n",
    "    return m"
   ]
  },
  {
   "cell_type": "markdown",
   "id": "75787f41",
   "metadata": {},
   "source": [
    "### 5.2\n",
    "Consider a cell marked with 0 as a blockage or dead-end, and a cell marked with 1 is good to go. Write a function `Count_path` to count total number of paths to reach the right-bottom corner cell from the top-left corner cell.\n",
    "\n",
    "**Notice:** for a given cell, you are only allowed to move either rightward or downward."
   ]
  },
  {
   "cell_type": "markdown",
   "id": "0fd4fa94",
   "metadata": {},
   "source": [
    "This path_finding problem can also be solved using the dynamic programming scheme. The key step is still finding the relationship between later values and each previous one. The pattern I found can be denoted as below,\n",
    "\n",
    "$$\n",
    "\\text{dp}[X][Y]=\\text{dp}[X-1][Y]+\\text{dp}[X][Y-1]\n",
    "$$\n",
    "\n",
    "Both X and Y values are always larger or equal to 0 - once one reaches 0, the recursion ends. The initial value is 1 when both X and Y reach 0. It is the very starting point of each paths. Furthermore, if our path encounters a 0 value in the matrix, it should also return 0 to imply a dead end."
   ]
  },
  {
   "cell_type": "markdown",
   "id": "da5d57bd",
   "metadata": {},
   "source": [
    "**Solution:**"
   ]
  },
  {
   "cell_type": "code",
   "execution_count": 19,
   "id": "2997d4e0",
   "metadata": {},
   "outputs": [],
   "source": [
    "# Define a function with 3 arguments,\n",
    "# The last one,m is a constant,\n",
    "# only to pass the matrix info into every step or the recursion.\n",
    "\n",
    "def Counter(X,Y,m):\n",
    "    if m[X][Y] == 0:\n",
    "        count = 0\n",
    "    elif X > -1 and Y > -1:\n",
    "        if X == 0 and Y ==0:\n",
    "            count = 1\n",
    "        else:\n",
    "            count = Counter(X-1,Y,m)+Counter(X,Y-1,m)\n",
    "    else:\n",
    "        return 0 \n",
    "    return count"
   ]
  },
  {
   "cell_type": "code",
   "execution_count": 20,
   "id": "6f93d8ac",
   "metadata": {},
   "outputs": [],
   "source": [
    "# This function aims at wrapping all the operations in oneplace.\n",
    "# You only need to call this one and pass a matrix in it,\n",
    "# It will automatically calculate the number of paths\n",
    "\n",
    "def Count_path(m):\n",
    "    import numpy as np\n",
    "    X = m.shape[0]-1\n",
    "    Y = m.shape[1]-1\n",
    "    paths = Counter(X,Y,m)\n",
    "    return paths"
   ]
  },
  {
   "cell_type": "markdown",
   "id": "40e5d97b",
   "metadata": {},
   "source": [
    "### 5.3\n",
    "Let `N = 10`, `M = 8`, run `Count_path` for 1000 times, each time the matrix (except the right-bottom corner and top-left corner cells, which remain being 1) is re-filled with integer 0 or 1 randomly, report the mean of total number of paths from the 1000 runs."
   ]
  },
  {
   "cell_type": "markdown",
   "id": "e1e72715",
   "metadata": {},
   "source": [
    "**Solution:**"
   ]
  },
  {
   "cell_type": "code",
   "execution_count": 21,
   "id": "2df22a32",
   "metadata": {},
   "outputs": [
    {
     "name": "stdout",
     "output_type": "stream",
     "text": [
      "Number of Success:  26\n",
      "[1, 1, 24, 9, 7, 5, 4, 8, 1, 12, 6, 4, 4, 24, 3, 3, 2, 10, 16, 4, 1, 2, 18, 4, 8, 24]\n",
      "Total Sum of Success Paths:  205\n",
      "Mean of total sum 7.88\n",
      "Probability of Success:  0.026\n"
     ]
    }
   ],
   "source": [
    "sum_paths = 0\n",
    "paths_list = []\n",
    "for i in range(1000):\n",
    "    matrix = Creat_a_matrix(10,8)\n",
    "    paths = Count_path(matrix)\n",
    "    sum_paths += paths\n",
    "    if paths != 0:\n",
    "        paths_list.append(paths)\n",
    "\n",
    "mean = sum_paths/len(paths_list)\n",
    "print('Number of Success: ',len(paths_list))\n",
    "print(paths_list)\n",
    "print('Total Sum of Success Paths: ',sum_paths)\n",
    "print('Mean of total sum',round(mean,2))\n",
    "print('Probability of Success: ',len(paths_list)/1000)"
   ]
  }
 ],
 "metadata": {
  "kernelspec": {
   "display_name": "Python 3 (ipykernel)",
   "language": "python",
   "name": "python3"
  },
  "language_info": {
   "codemirror_mode": {
    "name": "ipython",
    "version": 3
   },
   "file_extension": ".py",
   "mimetype": "text/x-python",
   "name": "python",
   "nbconvert_exporter": "python",
   "pygments_lexer": "ipython3",
   "version": "3.9.12"
  }
 },
 "nbformat": 4,
 "nbformat_minor": 5
}
