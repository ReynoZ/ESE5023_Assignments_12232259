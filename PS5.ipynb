{
 "cells": [
  {
   "cell_type": "code",
   "execution_count": 6,
   "id": "07ecfd9a",
   "metadata": {},
   "outputs": [],
   "source": [
    "import numpy as np\n",
    "import pandas as pd\n",
    "import matplotlib.pyplot as plt\n",
    "import scipy\n",
    "%matplotlib inline"
   ]
  },
  {
   "cell_type": "code",
   "execution_count": 32,
   "id": "40eecb99",
   "metadata": {},
   "outputs": [],
   "source": [
    "def twoBoxmodel(w, t, p):\n",
    "    \"\"\"\n",
    "    Defines the differential equations for the two-box system model.\n",
    "    \n",
    "    Arguments:\n",
    "        w: vector ofthe sate variables:\n",
    "            w = [N_1, N_2]\n",
    "        t: time\n",
    "        p: vector of the parameters:\n",
    "            p = [k_12, k_21, gamma]\n",
    "    \"\"\"\n",
    "    N_1, N_2 = w\n",
    "    k_12, k_21, gamma = p\n",
    "    \n",
    "    # Create f = (N_1, N_2):\n",
    "    f = [-k_12*N_1 + k_21*N_2 + gamma,\n",
    "         k_12*N_1-k_21*N_2]\n",
    "    return f"
   ]
  },
  {
   "cell_type": "code",
   "execution_count": 29,
   "id": "239839a3",
   "metadata": {},
   "outputs": [],
   "source": [
    "# Import Global Co2 Emssions from Fossil-Fuel Burning data\n",
    "fsl_CO2 = pd.read_csv('data_files/global.1751_2008.csv', skiprows = [1], usecols = [0,1])\n",
    "fsl_CO2 = fsl_CO2.loc[(fsl_CO2['Year\"'] > 1985) & (fsl_CO2['Year\"'] < 2005)].reset_index(drop=True)\n",
    "# Convert the values into ppm\n",
    "fsl_CO2 = fsl_CO2.iloc[:,1]/1000/2.13"
   ]
  },
  {
   "cell_type": "code",
   "execution_count": 75,
   "id": "3241cbf0",
   "metadata": {},
   "outputs": [
    {
     "data": {
      "text/html": [
       "<div>\n",
       "<style scoped>\n",
       "    .dataframe tbody tr th:only-of-type {\n",
       "        vertical-align: middle;\n",
       "    }\n",
       "\n",
       "    .dataframe tbody tr th {\n",
       "        vertical-align: top;\n",
       "    }\n",
       "\n",
       "    .dataframe thead th {\n",
       "        text-align: right;\n",
       "    }\n",
       "</style>\n",
       "<table border=\"1\" class=\"dataframe\">\n",
       "  <thead>\n",
       "    <tr style=\"text-align: right;\">\n",
       "      <th></th>\n",
       "      <th>year</th>\n",
       "      <th>mean</th>\n",
       "    </tr>\n",
       "  </thead>\n",
       "  <tbody>\n",
       "    <tr>\n",
       "      <th>0</th>\n",
       "      <td>1986</td>\n",
       "      <td>347.61</td>\n",
       "    </tr>\n",
       "    <tr>\n",
       "      <th>1</th>\n",
       "      <td>1987</td>\n",
       "      <td>349.31</td>\n",
       "    </tr>\n",
       "    <tr>\n",
       "      <th>2</th>\n",
       "      <td>1988</td>\n",
       "      <td>351.69</td>\n",
       "    </tr>\n",
       "    <tr>\n",
       "      <th>3</th>\n",
       "      <td>1989</td>\n",
       "      <td>353.20</td>\n",
       "    </tr>\n",
       "    <tr>\n",
       "      <th>4</th>\n",
       "      <td>1990</td>\n",
       "      <td>354.45</td>\n",
       "    </tr>\n",
       "    <tr>\n",
       "      <th>5</th>\n",
       "      <td>1991</td>\n",
       "      <td>355.70</td>\n",
       "    </tr>\n",
       "    <tr>\n",
       "      <th>6</th>\n",
       "      <td>1992</td>\n",
       "      <td>356.54</td>\n",
       "    </tr>\n",
       "    <tr>\n",
       "      <th>7</th>\n",
       "      <td>1993</td>\n",
       "      <td>357.21</td>\n",
       "    </tr>\n",
       "    <tr>\n",
       "      <th>8</th>\n",
       "      <td>1994</td>\n",
       "      <td>358.96</td>\n",
       "    </tr>\n",
       "    <tr>\n",
       "      <th>9</th>\n",
       "      <td>1995</td>\n",
       "      <td>360.97</td>\n",
       "    </tr>\n",
       "    <tr>\n",
       "      <th>10</th>\n",
       "      <td>1996</td>\n",
       "      <td>362.74</td>\n",
       "    </tr>\n",
       "    <tr>\n",
       "      <th>11</th>\n",
       "      <td>1997</td>\n",
       "      <td>363.88</td>\n",
       "    </tr>\n",
       "    <tr>\n",
       "      <th>12</th>\n",
       "      <td>1998</td>\n",
       "      <td>366.84</td>\n",
       "    </tr>\n",
       "    <tr>\n",
       "      <th>13</th>\n",
       "      <td>1999</td>\n",
       "      <td>368.54</td>\n",
       "    </tr>\n",
       "    <tr>\n",
       "      <th>14</th>\n",
       "      <td>2000</td>\n",
       "      <td>369.71</td>\n",
       "    </tr>\n",
       "    <tr>\n",
       "      <th>15</th>\n",
       "      <td>2001</td>\n",
       "      <td>371.32</td>\n",
       "    </tr>\n",
       "    <tr>\n",
       "      <th>16</th>\n",
       "      <td>2002</td>\n",
       "      <td>373.45</td>\n",
       "    </tr>\n",
       "    <tr>\n",
       "      <th>17</th>\n",
       "      <td>2003</td>\n",
       "      <td>375.98</td>\n",
       "    </tr>\n",
       "    <tr>\n",
       "      <th>18</th>\n",
       "      <td>2004</td>\n",
       "      <td>377.70</td>\n",
       "    </tr>\n",
       "  </tbody>\n",
       "</table>\n",
       "</div>"
      ],
      "text/plain": [
       "    year    mean\n",
       "0   1986  347.61\n",
       "1   1987  349.31\n",
       "2   1988  351.69\n",
       "3   1989  353.20\n",
       "4   1990  354.45\n",
       "5   1991  355.70\n",
       "6   1992  356.54\n",
       "7   1993  357.21\n",
       "8   1994  358.96\n",
       "9   1995  360.97\n",
       "10  1996  362.74\n",
       "11  1997  363.88\n",
       "12  1998  366.84\n",
       "13  1999  368.54\n",
       "14  2000  369.71\n",
       "15  2001  371.32\n",
       "16  2002  373.45\n",
       "17  2003  375.98\n",
       "18  2004  377.70"
      ]
     },
     "execution_count": 75,
     "metadata": {},
     "output_type": "execute_result"
    }
   ],
   "source": [
    "# Import Mauna Lao Volcano Observed values\n",
    "obsv_CO2 = pd.read_csv('data_files/co2_annmean_mlo.csv',usecols = [0,1], comment = '#')\n",
    "obsv_CO2 = obsv_CO2.loc[(obsv_CO2['year'] > 1985) & (obsv_CO2['year'] < 2005)].reset_index(drop=True)\n",
    "obsv_CO2"
   ]
  },
  {
   "cell_type": "code",
   "execution_count": 57,
   "id": "003ab223",
   "metadata": {},
   "outputs": [
    {
     "data": {
      "text/plain": [
       "0     2.633333\n",
       "1     2.701878\n",
       "2     2.801878\n",
       "3     2.858216\n",
       "4     2.887793\n",
       "5     2.929108\n",
       "6     2.900469\n",
       "7     2.897653\n",
       "8     2.950235\n",
       "9     3.015023\n",
       "10    3.075117\n",
       "11    3.128169\n",
       "12    3.116432\n",
       "13    3.091080\n",
       "14    3.169014\n",
       "15    3.246948\n",
       "16    3.277465\n",
       "17    3.472770\n",
       "18    3.653521\n",
       "Name: Total carbon emissions from fossil-fuels (million metric tons of C), dtype: float64"
      ]
     },
     "execution_count": 57,
     "metadata": {},
     "output_type": "execute_result"
    }
   ],
   "source": [
    "fsl_CO2"
   ]
  },
  {
   "cell_type": "code",
   "execution_count": 58,
   "id": "bdb13f1f",
   "metadata": {},
   "outputs": [],
   "source": [
    "from scipy.integrate import odeint\n",
    "\n",
    "# Parameter values\n",
    "k_12 = 105/740\n",
    "k_21 = 102/900\n",
    "gamma = fsl_CO2[18]\n",
    "\n",
    "# Initial conditions\n",
    "N_1 = 740/2.13\n",
    "N_2 = 900/2.13\n",
    "\n",
    "# Pack up the parameters and initial conditions:\n",
    "p = [k_12, k_21, gamma]\n",
    "w0 = [N_1, N_2]\n",
    "\n",
    "# Set the time\n",
    "# delta t = 1\n",
    "t = np.arange(0,2004-1986+1)\n",
    "\n",
    "# Call the ODE solver.\n",
    "wsol = odeint(twoBoxmodel, w0, t, args=(p,))"
   ]
  },
  {
   "cell_type": "code",
   "execution_count": 55,
   "id": "bf1ef395",
   "metadata": {},
   "outputs": [],
   "source": [
    "t = np.arange(0,2004-1986+1)"
   ]
  },
  {
   "cell_type": "code",
   "execution_count": 56,
   "id": "96a43384",
   "metadata": {},
   "outputs": [
    {
     "data": {
      "text/plain": [
       "array([ 0,  1,  2,  3,  4,  5,  6,  7,  8,  9, 10, 11, 12, 13, 14, 15, 16,\n",
       "       17, 18])"
      ]
     },
     "execution_count": 56,
     "metadata": {},
     "output_type": "execute_result"
    }
   ],
   "source": [
    "t"
   ]
  },
  {
   "cell_type": "code",
   "execution_count": 60,
   "id": "2e2cf02b",
   "metadata": {},
   "outputs": [
    {
     "data": {
      "text/plain": [
       "array([[347.41784038, 422.53521127],\n",
       "       [349.58978877, 424.016784  ],\n",
       "       [351.63794588, 425.62214802],\n",
       "       [353.59018515, 427.32342987],\n",
       "       [355.46811996, 429.09901619],\n",
       "       [357.28846779, 430.93218949],\n",
       "       [359.06422534, 432.80995306],\n",
       "       [360.80542576, 434.72227377],\n",
       "       [362.51985746, 436.6613632 ],\n",
       "       [364.21354741, 438.62119438],\n",
       "       [365.89116859, 440.59709432],\n",
       "       [367.55634012, 442.58544391],\n",
       "       [369.21186698, 444.58343818],\n",
       "       [370.85992151, 446.58890478],\n",
       "       [372.50218689, 448.60016053],\n",
       "       [374.13996719, 450.61590136],\n",
       "       [375.77427185, 452.63511782],\n",
       "       [377.40588526, 454.65702553],\n",
       "       [379.03541336, 456.68101857]])"
      ]
     },
     "execution_count": 60,
     "metadata": {},
     "output_type": "execute_result"
    }
   ],
   "source": [
    "wsol.reshape(19,2)"
   ]
  },
  {
   "cell_type": "code",
   "execution_count": 61,
   "id": "f1e42508",
   "metadata": {},
   "outputs": [],
   "source": [
    "atm_sol = wsol[:,0]\n",
    "soc_sol = wsol[:,1]"
   ]
  },
  {
   "cell_type": "code",
   "execution_count": 62,
   "id": "ee9aabe0",
   "metadata": {},
   "outputs": [
    {
     "data": {
      "text/plain": [
       "array([1986, 1987, 1988, 1989, 1990, 1991, 1992, 1993, 1994, 1995, 1996,\n",
       "       1997, 1998, 1999, 2000, 2001, 2002, 2003, 2004])"
      ]
     },
     "execution_count": 62,
     "metadata": {},
     "output_type": "execute_result"
    }
   ],
   "source": [
    "year = np.arange(1986,2005,1)\n",
    "year"
   ]
  },
  {
   "cell_type": "code",
   "execution_count": 94,
   "id": "490dcd10",
   "metadata": {},
   "outputs": [
    {
     "data": {
      "text/plain": [
       "[[<matplotlib.axis.XTick at 0x1a261db5880>,\n",
       "  <matplotlib.axis.XTick at 0x1a261db5850>,\n",
       "  <matplotlib.axis.XTick at 0x1a261acc280>,\n",
       "  <matplotlib.axis.XTick at 0x1a261de99a0>,\n",
       "  <matplotlib.axis.XTick at 0x1a261dee130>]]"
      ]
     },
     "execution_count": 94,
     "metadata": {},
     "output_type": "execute_result"
    },
    {
     "data": {
      "image/png": "[encoded data removed]",
      "text/plain": [
       "<Figure size 800x500 with 1 Axes>"
      ]
     },
     "metadata": {},
     "output_type": "display_data"
    }
   ],
   "source": [
    "fig, ax = plt.subplots(figsize=(8,5))\n",
    "ax.plot(year,atm_sol)\n",
    "ax.scatter(year,obsv_CO2['mean'],c = 'r')\n",
    "ax.set(xticks = np.arange(1985,2010,5))"
   ]
  },
  {
   "cell_type": "code",
   "execution_count": null,
   "id": "6992e2d5",
   "metadata": {},
   "outputs": [],
   "source": []
  }
 ],
 "metadata": {
  "kernelspec": {
   "display_name": "Python 3 (ipykernel)",
   "language": "python",
   "name": "python3"
  },
  "language_info": {
   "codemirror_mode": {
    "name": "ipython",
    "version": 3
   },
   "file_extension": ".py",
   "mimetype": "text/x-python",
   "name": "python",
   "nbconvert_exporter": "python",
   "pygments_lexer": "ipython3",
   "version": "3.9.12"
  }
 },
 "nbformat": 4,
 "nbformat_minor": 5
}
